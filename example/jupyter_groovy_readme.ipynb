{
 "cells": [
  {
   "cell_type": "markdown",
   "id": "7f9ff556-878f-4705-85f2-982d5a37f013",
   "metadata": {
    "tags": []
   },
   "source": [
    "### 特殊注释符号  \n",
    "  //%file：代码执行时生成的文件，指定文件名后，将不会自动删除。  \n",
    "  //%args: 代码运行时的参数。  \n",
    "  //%noruncode 不执行代码，一般配合file,command,dartcmd 参数一起使用。  \n",
    "  //%include:包含代码片段文件  \n",
    "  //%command:执行shell 命令  \n",
    "  //%dartcmd:执行dart 命令 \n",
    "  //%fluttercmd:执行flutter 命令 \n",
    "  "
   ]
  },
  {
   "cell_type": "code",
   "execution_count": 1,
   "id": "1e4a9e52",
   "metadata": {},
   "outputs": [
    {
     "name": "stdout",
     "output_type": "stream",
     "text": [
      "Generating binary file\n"
     ]
    },
    {
     "data": {
      "text/plain": [
       "[MyC Kernel] Info: groovyc  -d  /tmp  /tmp/tmpypizqt6g.groovy\n"
      ]
     },
     "metadata": {
      "text/plain": {}
     },
     "output_type": "display_data"
    },
    {
     "name": "stdout",
     "output_type": "stream",
     "text": [
      "The process :tmpypizqt6g\n"
     ]
    },
    {
     "data": {
      "text/plain": [
       "[MyC Kernel] Info: java  -cp  :/usr/share/java/groovy.jar:/tmp  tmpypizqt6g\n"
      ]
     },
     "metadata": {
      "text/plain": {}
     },
     "output_type": "display_data"
    },
    {
     "data": {
      "text/plain": [
       "this is groovy.\n"
      ]
     },
     "metadata": {
      "text/plain": {}
     },
     "output_type": "display_data"
    }
   ],
   "source": [
    "//###%joptions:-cp /tmp:/usr/share/java/groovy.jar\n",
    "println(\"this is groovy.\")"
   ]
  },
  {
   "cell_type": "code",
   "execution_count": null,
   "id": "67536849",
   "metadata": {},
   "outputs": [],
   "source": []
  }
 ],
 "metadata": {
  "interpreter": {
   "hash": "31f2aee4e71d21fbe5cf8b01ff0e069b9275f58929596ceb00d14d90e3e16cd6"
  },
  "kernelspec": {
   "display_name": "MyGroovy",
   "language": "groovy",
   "name": "mygroovy"
  },
  "language_info": {
   "file_extension": ".groovy",
   "mimetype": "text/x-csrc",
   "name": "groovy"
  }
 },
 "nbformat": 4,
 "nbformat_minor": 5
}
