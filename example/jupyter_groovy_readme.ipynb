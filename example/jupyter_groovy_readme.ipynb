{
 "cells": [
  {
   "cell_type": "code",
   "execution_count": 3,
   "id": "1e4a9e52",
   "metadata": {},
   "outputs": [
    {
     "name": "stdout",
     "output_type": "stream",
     "text": [
      "Generating binary file\n",
      "The process :tmp7ugsmcg4\n"
     ]
    },
    {
     "data": {
      "text/plain": [
       "this is groovy.\n"
      ]
     },
     "metadata": {
      "text/plain": {}
     },
     "output_type": "display_data"
    }
   ],
   "source": [
    "//%joptions:-cp /tmp:/usr/share/java/groovy.jar\n",
    "//%log:0\n",
    "println(\"this is groovy.\")"
   ]
  },
  {
   "cell_type": "code",
   "execution_count": null,
   "id": "67536849",
   "metadata": {},
   "outputs": [],
   "source": []
  }
 ],
 "metadata": {
  "interpreter": {
   "hash": "31f2aee4e71d21fbe5cf8b01ff0e069b9275f58929596ceb00d14d90e3e16cd6"
  },
  "kernelspec": {
   "display_name": "MyGroovy",
   "language": "groovy",
   "name": "mygroovy"
  },
  "language_info": {
   "file_extension": ".groovy",
   "mimetype": "text/groovy",
   "name": "text/groovy"
  }
 },
 "nbformat": 4,
 "nbformat_minor": 5
}
