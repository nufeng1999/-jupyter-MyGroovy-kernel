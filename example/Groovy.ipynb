{
 "cells": [
  {
   "cell_type": "code",
   "execution_count": null,
   "id": "5226fd1b-4143-4e04-a4f7-d6c61495c945",
   "metadata": {},
   "outputs": [],
   "source": [
    "class Hello {\n",
    "    static void main(args) {\n",
    "        println 'hello world'\n",
    "    }\n",
    "}\n",
    "Hello.main()"
   ]
  },
  {
   "cell_type": "code",
   "execution_count": null,
   "id": "bc70fc29-90cc-4028-9f95-19f5775aa5d2",
   "metadata": {},
   "outputs": [],
   "source": [
    "System.out.println(\"hello world\");\n",
    "System.out.println \"hello world\";\n",
    "\n",
    "println(\"hello world\")\n",
    "println 'hello world'"
   ]
  }
 ],
 "metadata": {
  "kernelspec": {
   "display_name": "Groovy",
   "language": "groovy",
   "name": "python395jvsc74a57bd075596ead963b1eeb4cf3ce4e8a9c4a864202dd5fd95b19dff9cbdac9756331e2"
  },
  "language_info": {
   "codemirror_mode": "groovy",
   "file_extension": ".groovy",
   "mimetype": "",
   "name": "Groovy",
   "nbconverter_exporter": "",
   "version": "2.5.6"
  }
 },
 "nbformat": 4,
 "nbformat_minor": 5
}
