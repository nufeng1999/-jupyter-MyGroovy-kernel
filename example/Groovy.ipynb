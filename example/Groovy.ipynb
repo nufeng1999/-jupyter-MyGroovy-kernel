{
 "cells": [
  {
   "cell_type": "code",
   "execution_count": 1,
   "id": "5226fd1b-4143-4e04-a4f7-d6c61495c945",
   "metadata": {},
   "outputs": [
    {
     "name": "stdout",
     "output_type": "stream",
     "text": [
      "Generating binary file\n",
      "[MyGroovyKernel125018] Info: groovyc  -d  /mnt/h/Jupyter/ipynb/MyGroovy  /mnt/h/Jupyter/ipynb/MyGroovy/tmpfg8hyx_l.groovy\n",
      "[MyGroovyKernel125018] Info:groovyc -d /mnt/h/Jupyter/ipynb/MyGroovy /mnt/h/Jupyter/ipynb/MyGroovy/tmpfg8hyx_l.groovy \n",
      "[MyGroovyKernel125018] Info:The process end:18937\n",
      "[MyGroovyKernel125018] Info:The process :tmpfg8hyx_l\n",
      "The process :tmpfg8hyx_l\n",
      "[MyGroovyKernel125018] Info: java  -cp  :/usr/share/java/groovy.jar:/mnt/h/Jupyter/ipynb/MyGroovy  tmpfg8hyx_l\n",
      "[MyGroovyKernel125018] Info:java -cp :/usr/share/java/groovy.jar:/mnt/h/Jupyter/ipynb/MyGroovy tmpfg8hyx_l \n"
     ]
    },
    {
     "data": {
      "text/plain": [
       "hello world\n"
      ]
     },
     "metadata": {
      "text/plain": {}
     },
     "output_type": "display_data"
    },
    {
     "name": "stdout",
     "output_type": "stream",
     "text": [
      "[MyGroovyKernel125018] Info:The process end:18976\n"
     ]
    }
   ],
   "source": [
    "//%log:1\n",
    "class Hello {\n",
    "    static void main(args) {\n",
    "        println 'hello world'\n",
    "    }\n",
    "}\n",
    "Hello.main()"
   ]
  },
  {
   "cell_type": "code",
   "execution_count": 2,
   "id": "bc70fc29-90cc-4028-9f95-19f5775aa5d2",
   "metadata": {},
   "outputs": [
    {
     "name": "stdout",
     "output_type": "stream",
     "text": [
      "Generating binary file\n",
      "[MyGroovyKernel125018] Info: groovyc  -d  /mnt/h/Jupyter/ipynb/MyGroovy  /mnt/h/Jupyter/ipynb/MyGroovy/tmpjpsed_op.groovy\n",
      "[MyGroovyKernel125018] Info:groovyc -d /mnt/h/Jupyter/ipynb/MyGroovy /mnt/h/Jupyter/ipynb/MyGroovy/tmpjpsed_op.groovy \n",
      "[MyGroovyKernel125018] Info:The process end:19000\n",
      "[MyGroovyKernel125018] Info:The process :tmpjpsed_op\n",
      "The process :tmpjpsed_op\n",
      "[MyGroovyKernel125018] Info: java  -cp  :/usr/share/java/groovy.jar:/mnt/h/Jupyter/ipynb/MyGroovy  tmpjpsed_op\n",
      "[MyGroovyKernel125018] Info:java -cp :/usr/share/java/groovy.jar:/mnt/h/Jupyter/ipynb/MyGroovy tmpjpsed_op \n"
     ]
    },
    {
     "data": {
      "text/plain": [
       "hello world\n"
      ]
     },
     "metadata": {
      "text/plain": {}
     },
     "output_type": "display_data"
    },
    {
     "data": {
      "text/plain": [
       "hello world\n"
      ]
     },
     "metadata": {
      "text/plain": {}
     },
     "output_type": "display_data"
    },
    {
     "data": {
      "text/plain": [
       "hello world\n",
       "hello world\n"
      ]
     },
     "metadata": {
      "text/plain": {}
     },
     "output_type": "display_data"
    },
    {
     "name": "stdout",
     "output_type": "stream",
     "text": [
      "[MyGroovyKernel125018] Info:The process end:19037\n"
     ]
    }
   ],
   "source": [
    "//%log:1\n",
    "System.out.println(\"hello world\");\n",
    "System.out.println \"hello world\";\n",
    "\n",
    "println(\"hello world\")\n",
    "println 'hello world'"
   ]
  }
 ],
 "metadata": {
  "interpreter": {
   "hash": "916dbcbb3f70747c44a77c7bcd40155683ae19c65e1c03b4aa3499c5328201f1"
  },
  "kernelspec": {
   "display_name": "MyGroovy",
   "language": "groovy",
   "name": "mygroovy"
  },
  "language_info": {
   "file_extension": ".groovy",
   "mimetype": "text/groovy",
   "name": "text/groovy"
  }
 },
 "nbformat": 4,
 "nbformat_minor": 5
}
