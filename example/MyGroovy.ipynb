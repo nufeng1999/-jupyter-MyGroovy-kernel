{
 "cells": [
  {
   "cell_type": "code",
   "execution_count": null,
   "id": "cdcc6bff-b243-48f6-b157-c6bf439a4c9c",
   "metadata": {},
   "outputs": [],
   "source": [
    "#include <stdio.h>\n",
    "int main(){\n",
    "    printf(\"%s\",\"这是测试\");\n",
    "    return 0;\n",
    "}"
   ]
  }
 ],
 "metadata": {
  "kernelspec": {
   "display_name": "C",
   "language": "c",
   "name": "c"
  },
  "language_info": {
   "file_extension": ".c",
   "mimetype": "text/plain",
   "name": "c"
  }
 },
 "nbformat": 4,
 "nbformat_minor": 5
}
